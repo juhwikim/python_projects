{
 "cells": [
  {
   "cell_type": "code",
   "execution_count": 1,
   "id": "3248ea3f",
   "metadata": {},
   "outputs": [],
   "source": [
    "import random"
   ]
  },
  {
   "cell_type": "code",
   "execution_count": 5,
   "id": "7b0e36a7",
   "metadata": {},
   "outputs": [
    {
     "name": "stdout",
     "output_type": "stream",
     "text": [
      "Enter a choice (rock, paper, scissors): rock\n",
      "\n",
      "You chose rock, computer chose rock.\n",
      "\n",
      "Both players selected rock. It's a tie!\n",
      "Play again? (y/n): y\n",
      "Enter a choice (rock, paper, scissors): rok\n",
      "Please enter a correct choice (rock, paper, scissors)\n",
      "Play again? (y/n): y\n",
      "Enter a choice (rock, paper, scissors): rok\n",
      "Please enter a correct choice (rock, paper, scissors)\n",
      "Play again? (y/n): y\n",
      "Enter a choice (rock, paper, scissors): Rock\n",
      "\n",
      "You chose rock, computer chose rock.\n",
      "\n",
      "Paper covers rock! You lose.\n",
      "Play again? (y/n): n\n"
     ]
    }
   ],
   "source": [
    "while True:\n",
    "    user_action = input(\"Enter a choice (rock, paper, scissors): \")\n",
    "    user_choice = user_action.lower()\n",
    "    possible_actions = [\"rock\", \"paper\", \"scissors\"]\n",
    "    \n",
    "    if user_choice not in possible_actions:\n",
    "        correct_input = print(\"Please enter a correct choice (rock, paper, scissors)\")\n",
    "\n",
    "    else:    \n",
    "        computer_action = random.choice(possible_actions)\n",
    "        print(f\"\\nYou chose {user_choice}, computer chose {computer_action}.\\n\")\n",
    "\n",
    "        if user_action == computer_action:\n",
    "            print(f\"Both players selected {user_choice}. It's a tie!\")\n",
    "        elif user_choice == \"rock\":\n",
    "            if computer_action == \"scissors\":\n",
    "                print(\"Rock smashes scissors! You win!\")\n",
    "            else:\n",
    "                print(\"Paper covers rock! You lose.\")\n",
    "        elif user_choice == \"paper\":\n",
    "            if computer_action == \"rock\":\n",
    "                print(\"Paper covers rock! You win!\")\n",
    "            else:\n",
    "                print(\"Scissors cuts paper! You lose.\")\n",
    "        elif user_choice == \"scissors\":\n",
    "            if computer_action == \"paper\":\n",
    "                print(\"Scissors cuts paper! You win!\")\n",
    "            else:\n",
    "                print(\"Rock smashes scissors! You lose.\")\n",
    "\n",
    "    play_again = input(\"Play again? (y/n): \")\n",
    "    if play_again.lower() != \"y\":\n",
    "        break"
   ]
  },
  {
   "cell_type": "code",
   "execution_count": null,
   "id": "50e17ccf",
   "metadata": {},
   "outputs": [],
   "source": []
  }
 ],
 "metadata": {
  "kernelspec": {
   "display_name": "Python 3",
   "language": "python",
   "name": "python3"
  },
  "language_info": {
   "codemirror_mode": {
    "name": "ipython",
    "version": 3
   },
   "file_extension": ".py",
   "mimetype": "text/x-python",
   "name": "python",
   "nbconvert_exporter": "python",
   "pygments_lexer": "ipython3",
   "version": "3.8.10"
  }
 },
 "nbformat": 4,
 "nbformat_minor": 5
}
